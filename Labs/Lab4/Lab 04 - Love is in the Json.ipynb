{
 "cells": [
  {
   "cell_type": "markdown",
   "metadata": {},
   "source": [
    "# Valentine's Day Lab Assignment\n",
    "Picking a Romantic Movie\n",
    "\n",
    "## Instructions:\n",
    "1. Download a dataset of romantic movies from a public dataset repository (e.g., Kaggle).\n",
    "   - Example dataset: \"Romantic Movies Dataset\" (ensure it's in JSON format).\n",
    "2. Load the dataset from the JSON file.\n",
    "3. Create a function that helps pick a romantic movie based on user preferences.\n",
    "4. Display the selected movie details.\n",
    "5. Verify the JSON file content\n",
    "\n"
   ]
  },
  {
   "cell_type": "code",
   "execution_count": null,
   "metadata": {},
   "outputs": [],
   "source": [
    "# Sample Code:\n",
    "min_rating = float(input(\"Enter the minimum rating (0-10): \"))\n",
    "max_year = int(input(\"Enter the latest release year: \"))\n",
    "\n",
    "selected_movie = pick_movie(data, min_rating, max_year)\n",
    "\n",
    "if isinstance(selected_movie, str):\n",
    "    print(selected_movie)\n",
    "else:\n",
    "    print(f\"Selected Movie: {selected_movie['Title']}\")\n",
    "    print(f\"Year: {selected_movie['Year']}\")\n",
    "    print(f\"Rating: {selected_movie['Rating']}\")\n",
    "    print(f\"Box Office: ${selected_movie['BoxOffice']} million\")"
   ]
  },
  {
   "cell_type": "markdown",
   "metadata": {},
   "source": [
    "### Victor Flores\n",
    "### ETE 4990 Lab Spring 2025\n",
    "### 25 February 2025"
   ]
  },
  {
   "cell_type": "code",
   "execution_count": 77,
   "metadata": {},
   "outputs": [],
   "source": [
    "import json"
   ]
  },
  {
   "cell_type": "code",
   "execution_count": 78,
   "metadata": {},
   "outputs": [],
   "source": [
    "filename = 'RomanticMovies_json.json'"
   ]
  },
  {
   "cell_type": "markdown",
   "metadata": {},
   "source": [
    "#### Part 1"
   ]
  },
  {
   "cell_type": "code",
   "execution_count": null,
   "metadata": {},
   "outputs": [],
   "source": [
    "#checking if file is loading all data\n",
    "\n",
    "with open(filename) as f:\n",
    "    filecheck=json.load(f)\n",
    "\n",
    "print(json.dumps(filecheck,indent=2))"
   ]
  },
  {
   "cell_type": "code",
   "execution_count": null,
   "metadata": {},
   "outputs": [],
   "source": [
    "# practicing item pick out of json file\n",
    "with open(filename) as f:\n",
    "    for item in filecheck:\n",
    "        print(item[\"movieYear\"])\n"
   ]
  },
  {
   "cell_type": "markdown",
   "metadata": {},
   "source": [
    "#### Part 2"
   ]
  },
  {
   "cell_type": "code",
   "execution_count": null,
   "metadata": {},
   "outputs": [
    {
     "name": "stdout",
     "output_type": "stream",
     "text": [
      "Welcome to Valenitine's Movie Night!!\n",
      "\n",
      " Lets Select Your Movie!\n",
      "Your minimum critic score:56%\n",
      "Your minimum audience score:70%\n",
      "\n",
      "\n",
      "The earliest movie realease:1990\n",
      "The latest movie realease:2009\n",
      "\n",
      "\n",
      "Minimum Rank: 15\n",
      "Here is Your Selected Movies:\n",
      "\n",
      "Defending Your Life (1991) - Critic Score: 98%, Audience Score: 83% \n",
      " movieURL: https://www.rottentomatoes.com/m/defending_your_life\n",
      "Sideways (2004) - Critic Score: 97%, Audience Score: 79% \n",
      " movieURL: https://www.rottentomatoes.com/m/sideways\n"
     ]
    }
   ],
   "source": [
    "#loading json file\n",
    "import json\n",
    "\n",
    "with open('RomanticMovies_json.json') as file:\n",
    "    movies = json.load(file)\n",
    "\n",
    "#Create a function that helps pick a romantic movie based on user preferences.\n",
    "def WhatAreWeWatching(movies,minimum_critic,mimimum_audience,min_year,max_year,min_rank):\n",
    "    \"\"\"Filtering a Romantic Movie Selection\"\"\"\n",
    "\n",
    "    movie_selection = []\n",
    "\n",
    "    for RomCom in movies:\n",
    "        critic_score = int(RomCom['critic_score'].strip('%'))\n",
    "        audience_score = int(RomCom['audience_score'].strip('%'))\n",
    "\n",
    "        if critic_score >= minimum_critic or audience_score >= mimimum_audience:\n",
    "            if min_year <= RomCom['movieYear'] <= max_year:\n",
    "                if min_rank >= RomCom['movieRank']:\n",
    "                    movie_selection.append(RomCom)\n",
    "    \n",
    "    return movie_selection\n",
    "\n",
    "#User Inputed Prefrences\n",
    "print(\"Welcome to Valenitine's Movie Night!!\\n\\n Lets Select Your Movie!\")\n",
    "\n",
    "minimum_critic = int(input(\"Enter Your minimum allowed critic score:\"))\n",
    "minimum_audience = int(input(\"Enter Your minimum allowed audience score:\"))\n",
    "\n",
    "print(\"Your minimum critic score:\" + str(minimum_critic) + \"%\" )\n",
    "print(\"Your minimum audience score:\" + str(minimum_audience) + \"%\\n\\n\")\n",
    "\n",
    "min_year = int(input(\"Enter the earliest year of realease: \"))\n",
    "max_year = int(input(\"Enter the latest year of realease: \"))\n",
    "\n",
    "print(\"The earliest movie realease:\" + str(min_year))\n",
    "print(\"The latest movie realease:\" + str(max_year)+ \"\\n\\n\")\n",
    "\n",
    "min_rank = int(input(\"Enter the minimum rank wanted:\"))\n",
    "\n",
    "print(\"Minimum Rank: \" + str(min_rank))\n",
    "\n",
    "#Movie Selection Output\n",
    "movie_selection = WhatAreWeWatching(movies,minimum_critic,minimum_audience,min_year,max_year,min_rank)\n",
    "\n",
    "print(\"Here is Your Selected Movies:\\n\")\n",
    "for movies in movie_selection:\n",
    "    \n",
    "    print(f\"{movies['movieTitle']} ({movies['movieYear']}) - Critic Score: {movies['critic_score']}, Audience Score: {movies['audience_score']} \\n movieURL: {movies['movieURL']}\")\n"
   ]
  },
  {
   "cell_type": "markdown",
   "metadata": {},
   "source": [
    "### I used ChatGPT for verifying methods for my code"
   ]
  },
  {
   "cell_type": "code",
   "execution_count": 87,
   "metadata": {},
   "outputs": [
    {
     "name": "stdout",
     "output_type": "stream",
     "text": [
      "\n",
      "Movies matching your preferences:\n",
      "The Philadelphia Story (1940) - Critic Score: 100%, Audience Score: 93%\n",
      "His Girl Friday (1940) - Critic Score: 99%, Audience Score: 90%\n",
      "The Shop Around the Corner (1940) - Critic Score: 99%, Audience Score: 91%\n",
      "The Lady Eve (1941) - Critic Score: 99%, Audience Score: 87%\n",
      "Broadcast News (1987) - Critic Score: 98%, Audience Score: 79%\n",
      "Big (1988) - Critic Score: 98%, Audience Score: 82%\n",
      "Say Anything... (1989) - Critic Score: 98%, Audience Score: 85%\n",
      "Defending Your Life (1991) - Critic Score: 98%, Audience Score: 83%\n",
      "Annie Hall (1977) - Critic Score: 97%, Audience Score: 92%\n",
      "Bull Durham (1988) - Critic Score: 97%, Audience Score: 82%\n",
      "The Princess Bride (1987) - Critic Score: 96%, Audience Score: 94%\n",
      "Four Weddings and a Funeral (1994) - Critic Score: 92%, Audience Score: 74%\n",
      "Roman Holiday (1953) - Critic Score: 96%, Audience Score: 93%\n",
      "Dave (1993) - Critic Score: 95%, Audience Score: 72%\n",
      "Sabrina (1954) - Critic Score: 89%, Audience Score: 89%\n",
      "Some Like It Hot (1959) - Critic Score: 95%, Audience Score: 94%\n",
      "The Apartment (1960) - Critic Score: 94%, Audience Score: 94%\n",
      "Manhattan (1979) - Critic Score: 94%, Audience Score: 92%\n",
      "Groundhog Day (1993) - Critic Score: 94%, Audience Score: 88%\n",
      "Moonstruck (1987) - Critic Score: 89%, Audience Score: 80%\n",
      "Shakespeare in Love (1998) - Critic Score: 92%, Audience Score: 80%\n",
      "The Heartbreak Kid (1972) - Critic Score: 92%, Audience Score: 73%\n",
      "High Fidelity (2000) - Critic Score: 91%, Audience Score: 90%\n",
      "When Harry Met Sally... (1989) - Critic Score: 91%, Audience Score: 89%\n",
      "Hannah and Her Sisters (1986) - Critic Score: 91%, Audience Score: 90%\n",
      "The American President (1995) - Critic Score: 91%, Audience Score: 77%\n",
      "L.A. Story (1991) - Critic Score: 91%, Audience Score: 75%\n",
      "Show Me Love (1998) - Critic Score: 91%, Audience Score: 86%\n",
      "Much Ado About Nothing (1993) - Critic Score: 90%, Audience Score: 86%\n",
      "What's Up, Doc? (1972) - Critic Score: 89%, Audience Score: 88%\n",
      "Breakfast at Tiffany's (1961) - Critic Score: 88%, Audience Score: 91%\n",
      "Strictly Ballroom (1992) - Critic Score: 88%, Audience Score: 87%\n",
      "Italian for Beginners (2000) - Critic Score: 87%, Audience Score: 79%\n",
      "Chasing Amy (1997) - Critic Score: 87%, Audience Score: 83%\n",
      "The Parent Trap (1998) - Critic Score: 87%, Audience Score: 70%\n",
      "As Good as It Gets (1997) - Critic Score: 86%, Audience Score: 86%\n",
      "Harold and Maude (1971) - Critic Score: 86%, Audience Score: 93%\n",
      "Emma (1996) - Critic Score: 84%, Audience Score: 76%\n",
      "Notting Hill (1999) - Critic Score: 84%, Audience Score: 79%\n",
      "Jerry Maguire (1996) - Critic Score: 84%, Audience Score: 79%\n",
      "Cold Comfort Farm (1995) - Critic Score: 83%, Audience Score: 81%\n",
      "Grosse Pointe Blank (1997) - Critic Score: 82%, Audience Score: 86%\n",
      "Clueless (1995) - Critic Score: 81%, Audience Score: 76%\n",
      "While You Were Sleeping (1995) - Critic Score: 81%, Audience Score: 79%\n",
      "Muriel's Wedding (1994) - Critic Score: 81%, Audience Score: 84%\n",
      "Sixteen Candles (1984) - Critic Score: 81%, Audience Score: 85%\n",
      "Crossing Delancey (1988) - Critic Score: 80%, Audience Score: 77%\n",
      "Singles (1992) - Critic Score: 79%, Audience Score: 73%\n",
      "Get Real (1998) - Critic Score: 79%, Audience Score: 84%\n",
      "Benny & Joon (1993) - Critic Score: 76%, Audience Score: 85%\n",
      "Sleepless in Seattle (1993) - Critic Score: 75%, Audience Score: 75%\n",
      "Pretty in Pink (1986) - Critic Score: 75%, Audience Score: 81%\n",
      "My Best Friend's Wedding (1997) - Critic Score: 74%, Audience Score: 73%\n",
      "Cyrano de Bergerac (1990) - Critic Score: 100%, Audience Score: 90%\n",
      "Desk Set (1957) - Critic Score: 100%, Audience Score: 83%\n",
      "Born Yesterday (1950) - Critic Score: 97%, Audience Score: 85%\n",
      "Play It Again, Sam (1972) - Critic Score: 97%, Audience Score: 89%\n",
      "The Wedding Banquet (1993) - Critic Score: 97%, Audience Score: 87%\n",
      "Stolen Kisses (1968) - Critic Score: 97%, Audience Score: 89%\n",
      "Adam's Rib (1949) - Critic Score: 96%, Audience Score: 86%\n",
      "Belle Epoque (1992) - Critic Score: 95%, Audience Score: 78%\n",
      "Pillow Talk (1959) - Critic Score: 94%, Audience Score: 87%\n",
      "The Purple Rose of Cairo (1985) - Critic Score: 93%, Audience Score: 88%\n",
      "The Importance of Being Earnest (1952) - Critic Score: 88%, Audience Score: 83%\n",
      "Arthur (1981) - Critic Score: 86%, Audience Score: 77%\n",
      "The Sure Thing (1985) - Critic Score: 86%, Audience Score: 79%\n",
      "How to Marry a Millionaire (1953) - Critic Score: 85%, Audience Score: 78%\n",
      "The Seven Year Itch (1955) - Critic Score: 84%, Audience Score: 76%\n",
      "Valley Girl (1983) - Critic Score: 84%, Audience Score: 72%\n",
      "Woman of the Year (1942) - Critic Score: 83%, Audience Score: 80%\n",
      "Love in the Afternoon (1957) - Critic Score: 82%, Audience Score: 78%\n",
      "Edge of Seventeen (1998) - Critic Score: 80%, Audience Score: 73%\n",
      "Trick (1999) - Critic Score: 79%, Audience Score: 83%\n",
      "Mighty Aphrodite (1995) - Critic Score: 78%, Audience Score: 73%\n",
      "Better Off Dead (1985) - Critic Score: 77%, Audience Score: 87%\n",
      "Twelfth Night (1996) - Critic Score: 76%, Audience Score: 80%\n",
      "Coming to America (1988) - Critic Score: 73%, Audience Score: 85%\n",
      "The Wedding Singer (1998) - Critic Score: 72%, Audience Score: 80%\n",
      "You've Got Mail (1998) - Critic Score: 70%, Audience Score: 73%\n"
     ]
    }
   ],
   "source": [
    "import json\n",
    "\n",
    "# Load the JSON data from the file\n",
    "with open('RomanticMovies_json.json') as file:\n",
    "    movies = json.load(file)\n",
    "\n",
    "# Function to filter movies based on user preferences\n",
    "def filter_movies(movies, min_critic_score=0, min_audience_score=0, start_year=1900, end_year=2100):\n",
    "    filtered_movies = []\n",
    "    for movie in movies:\n",
    "        critic_score = int(movie['critic_score'].strip('%'))\n",
    "        audience_score = int(movie['audience_score'].strip('%'))\n",
    "        if (critic_score >= min_critic_score and audience_score >= min_audience_score and\n",
    "                start_year <= movie['movieYear'] <= end_year):\n",
    "            filtered_movies.append(movie)\n",
    "    return filtered_movies\n",
    "\n",
    "# Get user preferences\n",
    "min_critic_score = int(input(\"Enter minimum critic score (0-100): \"))\n",
    "min_audience_score = int(input(\"Enter minimum audience score (0-100): \"))\n",
    "start_year = int(input(\"Enter start year: \"))\n",
    "end_year = int(input(\"Enter end year: \"))\n",
    "\n",
    "# Filter movies based on user preferences\n",
    "filtered_movies = filter_movies(movies, min_critic_score, min_audience_score, start_year, end_year)\n",
    "\n",
    "# Display filtered movies\n",
    "print(f\"\\nMovies matching your preferences:\")\n",
    "for movie in filtered_movies:\n",
    "    print(f\"{movie['movieTitle']} ({movie['movieYear']}) - Critic Score: {movie['critic_score']}, Audience Score: {movie['audience_score']}\")"
   ]
  }
 ],
 "metadata": {
  "kernelspec": {
   "display_name": "base",
   "language": "python",
   "name": "python3"
  },
  "language_info": {
   "codemirror_mode": {
    "name": "ipython",
    "version": 3
   },
   "file_extension": ".py",
   "mimetype": "text/x-python",
   "name": "python",
   "nbconvert_exporter": "python",
   "pygments_lexer": "ipython3",
   "version": "3.12.7"
  }
 },
 "nbformat": 4,
 "nbformat_minor": 2
}
