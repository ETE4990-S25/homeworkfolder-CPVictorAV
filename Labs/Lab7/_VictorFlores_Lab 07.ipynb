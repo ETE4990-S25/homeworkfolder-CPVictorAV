{
 "cells": [
  {
   "cell_type": "markdown",
   "metadata": {},
   "source": [
    "### Victor Flores \n",
    "### ETE 4990 Spring 2025 \n",
    "### 7 March 2025 "
   ]
  },
  {
   "cell_type": "markdown",
   "metadata": {},
   "source": [
    "## Lab Objective:\n",
    "Create a Python script that recursively searches a file system for files with identical names. Perform a comparison on files and output the file paths of identical files.\n",
    "\n",
    "## Required tasks\n",
    "1. A menu\n",
    "    - this should be fairly easy seeing as your games (should) already have a menu system\n",
    "2. Recursive Search\n",
    "    - a recursive search is a search that will travle into a folder and back out.\n",
    "3. Comparison\n",
    "    - I recomend using a check sum comparison operation like MD5 or SHA-256\n",
    "4. Output\n",
    "    - the program will output files and there directories \n",
    "        - this can be done live or after\n",
    "\n",
    "## Instructions:\n",
    "Submit the file as a .py show it running in a .ipynb file\n",
    "\n",
    "\n",
    "Please find some sample code below to get you started\n",
    "\n"
   ]
  },
  {
   "cell_type": "code",
   "execution_count": 4,
   "metadata": {},
   "outputs": [
    {
     "name": "stdout",
     "output_type": "stream",
     "text": [
      "\n",
      "--- File Duplicate Finder ---\n",
      "1. Enter directory to search\n",
      "2. Exit\n",
      "Listing Python file:\n",
      "dupicates were found: HEAD\n",
      "dupicates were found: HEAD\n",
      "dupicates were found: main\n",
      "dupicates were found: main\n",
      "dupicates were found: HEAD\n",
      "dupicates were found: main\n",
      "dupicates were found: .DS_Store\n",
      "dupicates were found: findme.txt\n",
      "dupicates were found: COMMIT_EDITMSG\n",
      "dupicates were found: config\n",
      "dupicates were found: description\n",
      "dupicates were found: FETCH_HEAD\n",
      "dupicates were found: HEAD\n",
      "dupicates were found: index\n",
      "dupicates were found: ORIG_HEAD\n",
      "dupicates were found: packed-refs\n",
      "dupicates were found: applypatch-msg.sample\n",
      "dupicates were found: commit-msg.sample\n",
      "dupicates were found: fsmonitor-watchman.sample\n",
      "dupicates were found: post-update.sample\n",
      "dupicates were found: pre-applypatch.sample\n",
      "dupicates were found: pre-commit.sample\n",
      "dupicates were found: pre-merge-commit.sample\n",
      "dupicates were found: pre-push.sample\n",
      "dupicates were found: pre-rebase.sample\n",
      "dupicates were found: pre-receive.sample\n",
      "dupicates were found: prepare-commit-msg.sample\n",
      "dupicates were found: push-to-checkout.sample\n",
      "dupicates were found: sendemail-validate.sample\n",
      "dupicates were found: update.sample\n",
      "dupicates were found: exclude\n",
      "dupicates were found: HEAD\n",
      "dupicates were found: main\n",
      "dupicates were found: HEAD\n",
      "dupicates were found: main\n",
      "dupicates were found: UnitTesting1\n",
      "dupicates were found: main\n",
      "dupicates were found: UnitTesting1\n",
      "dupicates were found: HEAD\n",
      "dupicates were found: main\n",
      "dupicates were found: UnitTesting1\n",
      "\n",
      "--- File Duplicate Finder ---\n",
      "1. Enter directory to search\n",
      "2. Exit\n"
     ]
    },
    {
     "ename": "ValueError",
     "evalue": "invalid literal for int() with base 10: ''",
     "output_type": "error",
     "traceback": [
      "\u001b[1;31m---------------------------------------------------------------------------\u001b[0m",
      "\u001b[1;31mValueError\u001b[0m                                Traceback (most recent call last)",
      "Cell \u001b[1;32mIn[4], line 47\u001b[0m\n\u001b[0;32m     43\u001b[0m     \u001b[38;5;28;01mreturn\u001b[39;00m hash_obj\u001b[38;5;241m.\u001b[39mhexdigest()\n\u001b[0;32m     46\u001b[0m \u001b[38;5;28;01mif\u001b[39;00m \u001b[38;5;18m__name__\u001b[39m \u001b[38;5;241m==\u001b[39m \u001b[38;5;124m\"\u001b[39m\u001b[38;5;124m__main__\u001b[39m\u001b[38;5;124m\"\u001b[39m:\n\u001b[1;32m---> 47\u001b[0m     menu()\n",
      "Cell \u001b[1;32mIn[4], line 10\u001b[0m, in \u001b[0;36mmenu\u001b[1;34m()\u001b[0m\n\u001b[0;32m      8\u001b[0m \u001b[38;5;28mprint\u001b[39m(\u001b[38;5;124m\"\u001b[39m\u001b[38;5;124m1. Enter directory to search\u001b[39m\u001b[38;5;124m\"\u001b[39m)\n\u001b[0;32m      9\u001b[0m \u001b[38;5;28mprint\u001b[39m(\u001b[38;5;124m\"\u001b[39m\u001b[38;5;124m2. Exit\u001b[39m\u001b[38;5;124m\"\u001b[39m)\n\u001b[1;32m---> 10\u001b[0m choice \u001b[38;5;241m=\u001b[39m \u001b[38;5;28mint\u001b[39m(\u001b[38;5;28minput\u001b[39m(\u001b[38;5;124m\"\u001b[39m\u001b[38;5;124mChoose an option: \u001b[39m\u001b[38;5;124m\"\u001b[39m))\n\u001b[0;32m     11\u001b[0m \u001b[38;5;28;01mif\u001b[39;00m choice \u001b[38;5;241m==\u001b[39m \u001b[38;5;241m1\u001b[39m:\n\u001b[0;32m     12\u001b[0m     find_duplicates(\u001b[38;5;28minput\u001b[39m(\u001b[38;5;124m\"\u001b[39m\u001b[38;5;124mEnter your desired directory:\u001b[39m\u001b[38;5;124m\"\u001b[39m))\n",
      "\u001b[1;31mValueError\u001b[0m: invalid literal for int() with base 10: ''"
     ]
    }
   ],
   "source": [
    "import os\n",
    "import hashlib\n",
    "\n",
    "filedict = {}\n",
    "def menu():\n",
    "    while True:\n",
    "        print(\"\\n--- File Duplicate Finder ---\")\n",
    "        print(\"1. Enter directory to search\")\n",
    "        print(\"2. Exit\")\n",
    "        choice = int(input(\"Choose an option: \"))\n",
    "        if choice == 1:\n",
    "            find_duplicates(input(\"Enter your desired directory:\"))\n",
    "        if choice == 2:\n",
    "            break\n",
    "\n",
    "def find_duplicates(directory):\n",
    "    # search os.walk(directory):\n",
    "    # use a dictionary to store file names and paths\n",
    "    # compare files with the same name\n",
    "    print(\"Listing Python file:\")\n",
    "    for root,_, files in os.walk(directory):\n",
    "        for file in files:\n",
    "            if file in filedict:\n",
    "                print(f'dupicates were found: {file}')\n",
    "\n",
    "\n",
    "            file_path = os.path.join(root,file)\n",
    "\n",
    "            filedict.update({file:get_checksum(file_path)})\n",
    "\n",
    "\n",
    "    # for dirpath, dirnames, filenames in os.walk('C:/Users/valfo/Labs - ETE 4990'):\n",
    "    #     for filename in filenames:\n",
    "    #         if filename.endswith(\".py\"):\n",
    "    #             print(filename)\n",
    "\n",
    "\n",
    "def get_checksum(file_path):\n",
    "    hash_obj = hashlib.sha256()  # Change to hashlib.sha256() if desired\n",
    "    with open(file_path, 'rb') as f:\n",
    "        while chunk := f.read(8192):\n",
    "            hash_obj.update(chunk)\n",
    "    return hash_obj.hexdigest()\n",
    "\n",
    "\n",
    "if __name__ == \"__main__\":\n",
    "    menu()"
   ]
  },
  {
   "cell_type": "code",
   "execution_count": 4,
   "metadata": {},
   "outputs": [
    {
     "name": "stdout",
     "output_type": "stream",
     "text": [
      "Help on function walk in module os:\n",
      "\n",
      "walk(top, topdown=True, onerror=None, followlinks=False)\n",
      "    Directory tree generator.\n",
      "\n",
      "    For each directory in the directory tree rooted at top (including top\n",
      "    itself, but excluding '.' and '..'), yields a 3-tuple\n",
      "\n",
      "        dirpath, dirnames, filenames\n",
      "\n",
      "    dirpath is a string, the path to the directory.  dirnames is a list of\n",
      "    the names of the subdirectories in dirpath (including symlinks to directories,\n",
      "    and excluding '.' and '..').\n",
      "    filenames is a list of the names of the non-directory files in dirpath.\n",
      "    Note that the names in the lists are just names, with no path components.\n",
      "    To get a full path (which begins with top) to a file or directory in\n",
      "    dirpath, do os.path.join(dirpath, name).\n",
      "\n",
      "    If optional arg 'topdown' is true or not specified, the triple for a\n",
      "    directory is generated before the triples for any of its subdirectories\n",
      "    (directories are generated top down).  If topdown is false, the triple\n",
      "    for a directory is generated after the triples for all of its\n",
      "    subdirectories (directories are generated bottom up).\n",
      "\n",
      "    When topdown is true, the caller can modify the dirnames list in-place\n",
      "    (e.g., via del or slice assignment), and walk will only recurse into the\n",
      "    subdirectories whose names remain in dirnames; this can be used to prune the\n",
      "    search, or to impose a specific order of visiting.  Modifying dirnames when\n",
      "    topdown is false has no effect on the behavior of os.walk(), since the\n",
      "    directories in dirnames have already been generated by the time dirnames\n",
      "    itself is generated. No matter the value of topdown, the list of\n",
      "    subdirectories is retrieved before the tuples for the directory and its\n",
      "    subdirectories are generated.\n",
      "\n",
      "    By default errors from the os.scandir() call are ignored.  If\n",
      "    optional arg 'onerror' is specified, it should be a function; it\n",
      "    will be called with one argument, an OSError instance.  It can\n",
      "    report the error to continue with the walk, or raise the exception\n",
      "    to abort the walk.  Note that the filename is available as the\n",
      "    filename attribute of the exception object.\n",
      "\n",
      "    By default, os.walk does not follow symbolic links to subdirectories on\n",
      "    systems that support them.  In order to get this functionality, set the\n",
      "    optional argument 'followlinks' to true.\n",
      "\n",
      "    Caution:  if you pass a relative pathname for top, don't change the\n",
      "    current working directory between resumptions of walk.  walk never\n",
      "    changes the current directory, and assumes that the client doesn't\n",
      "    either.\n",
      "\n",
      "    Example:\n",
      "\n",
      "    import os\n",
      "    from os.path import join, getsize\n",
      "    for root, dirs, files in os.walk('python/Lib/email'):\n",
      "        print(root, \"consumes \")\n",
      "        print(sum(getsize(join(root, name)) for name in files), end=\" \")\n",
      "        print(\"bytes in\", len(files), \"non-directory files\")\n",
      "        if 'CVS' in dirs:\n",
      "            dirs.remove('CVS')  # don't visit CVS directories\n",
      "\n"
     ]
    }
   ],
   "source": [
    "help(os.walk)"
   ]
  },
  {
   "cell_type": "code",
   "execution_count": 5,
   "metadata": {},
   "outputs": [
    {
     "data": {
      "text/plain": [
       "<generator object walk at 0x00000255616D5010>"
      ]
     },
     "execution_count": 5,
     "metadata": {},
     "output_type": "execute_result"
    }
   ],
   "source": [
    "os.walk('C:/Users/valfo/Labs - ETE 4990')"
   ]
  },
  {
   "cell_type": "code",
   "execution_count": 26,
   "metadata": {},
   "outputs": [],
   "source": [
    "import os\n",
    "import hashlib\n",
    "# print(\"Listing Python file:\")\n",
    "for dirpath, dirnames, filenames in os.walk('C:/Users/valfo/Labs - ETE 4990'):\n",
    "    for filename in filenames:\n",
    "        if filename == 'findme.txt':\n",
    "            hash_obj = hashlib.sha256()  # Change to hashlib.sha256() if desired\n",
    "            with open('findme.txt', 'rb') as f:\n",
    "                while chunk := f.read(8192):\n",
    "                    hash_obj.update(chunk)\n",
    "    \n",
    "        \n",
    "\n",
    "   # for filename in filenames:\n",
    "   #    if filename.endswith(\".py\"):\n",
    "   #       print(filename)\n",
    "\n"
   ]
  },
  {
   "cell_type": "code",
   "execution_count": 27,
   "metadata": {},
   "outputs": [
    {
     "name": "stdout",
     "output_type": "stream",
     "text": [
      "<sha256 _hashlib.HASH object @ 0x000002556314A610>\n"
     ]
    }
   ],
   "source": [
    "print(hash_obj)"
   ]
  },
  {
   "cell_type": "code",
   "execution_count": 25,
   "metadata": {},
   "outputs": [
    {
     "data": {
      "text/plain": [
       "'007165a92a757bcf0a72ca300467b564b44a5f1bfdfd0944dafb69121d2f5896'"
      ]
     },
     "execution_count": 25,
     "metadata": {},
     "output_type": "execute_result"
    }
   ],
   "source": [
    "hashlib.sha256(open(\"findme.txt\", \"rb\").read()).hexdigest()"
   ]
  }
 ],
 "metadata": {
  "kernelspec": {
   "display_name": "base",
   "language": "python",
   "name": "python3"
  },
  "language_info": {
   "codemirror_mode": {
    "name": "ipython",
    "version": 3
   },
   "file_extension": ".py",
   "mimetype": "text/x-python",
   "name": "python",
   "nbconvert_exporter": "python",
   "pygments_lexer": "ipython3",
   "version": "3.12.7"
  }
 },
 "nbformat": 4,
 "nbformat_minor": 2
}
