{
 "cells": [
  {
   "cell_type": "markdown",
   "id": "0209af47-6b8d-4f34-8292-aa79deef5088",
   "metadata": {},
   "source": [
    "# Lab 2 - Refactoring\n",
    "## Refactoring is:\n",
    "\n",
    "Refactoring is the process of restructuring or rewriting code, while not changing its original functionality. The goal of refactoring is to improve internal code by making many small changes without altering the code's external behavior. \n",
    "\n",
    "It is easier said than done. "
   ]
  },
  {
   "cell_type": "markdown",
   "id": "f470981d-7433-42f0-a742-a9ddeae57056",
   "metadata": {},
   "source": [
    "### Part 1 - Warm-up\n",
    "\n",
    "You will refactor the following code:"
   ]
  },
  {
   "cell_type": "code",
   "execution_count": null,
   "id": "b817e22e-46ae-4dfe-9a38-c3d3e818168b",
   "metadata": {},
   "outputs": [],
   "source": [
    "#stolen from https://realpython.com/python-refactoring/\n",
    "#yes you can go there and look at what they did no do it yourself\n",
    "x = 5\n",
    "value = input(\"Enter a number: \")\n",
    "y = int(value)\n",
    "if x < y:\n",
    "    print(f\"{x} is less than {y}\")\n",
    "elif x == y:\n",
    "    print(f\"{x} is equal to {y}\")\n",
    "else:\n",
    "    print(f\"{x} is more than {y}\")"
   ]
  },
  {
   "cell_type": "code",
   "execution_count": null,
   "id": "033cf53c-96bc-4174-813d-09ad088787d6",
   "metadata": {},
   "outputs": [],
   "source": [
    "# put your refactored code here\n",
    "\n",
    "#x is not an efficient varible therefore its removed\n",
    "#x value can be implemented as a conditional value\n",
    "TestValue = 5\n",
    "EnteredValue = int(input(\"Enter a number: \"))\n",
    "\n",
    "if EnteredValue < TestValue:\n",
    "    print(\"5 is greater than \",EnteredValue)\n",
    "elif EnteredValue > TestValue:\n",
    "    print(\"5 is less than \",EnteredValue)\n",
    "else:\n",
    "    print(\"5 is equal to \",EnteredValue)\n",
    "    "
   ]
  },
  {
   "cell_type": "markdown",
   "id": "bb9edc37-9bd7-4b4a-8ec1-d1465d85be37",
   "metadata": {},
   "source": [
    "## Part 2\n",
    "Refactor the following"
   ]
  },
  {
   "cell_type": "code",
   "execution_count": null,
   "id": "733c4d16-c02c-4058-9cb6-4b751c86dc93",
   "metadata": {},
   "outputs": [],
   "source": [
    "def a(x, y):\n",
    "    if x == \"wizard\":\n",
    "        if y == \"fireball\":\n",
    "            return \"casts fireball\"\n",
    "        elif y == \"lightning\":\n",
    "            return \"casts lightning\"\n",
    "        else:\n",
    "            return \"does nothing\"\n",
    "    elif x == \"warrior\":\n",
    "        if y == \"slash\":\n",
    "            return \"slashes with sword\"\n",
    "        elif y == \"bash\":\n",
    "            return \"bashes with shield\"\n",
    "        else:\n",
    "            return \"does nothing\"\n",
    "    else:\n",
    "        return \"does nothing\"\n",
    "\n",
    "def b(z):\n",
    "    for i in range(10):\n",
    "        if z == \"dragon\":\n",
    "            return \"fights dragon\"\n",
    "        elif z == \"goblin\":\n",
    "            return \"fights goblin\"\n",
    "        elif z == \"orc\":\n",
    "            return \"fights orc\"\n",
    "        else:\n",
    "            return \"does nothing\"\n",
    "\n",
    "def c():\n",
    "    for i in range(5):\n",
    "        print(\"exploring dungeon\")\n",
    "    for j in range(5):\n",
    "        print(\"finding treasure\")\n",
    "\n",
    "print(a(\"wizard\", \"fireball\"))\n",
    "print(a(\"warrior\", \"slash\"))\n",
    "print(b(\"dragon\"))\n",
    "c()\n"
   ]
  },
  {
   "cell_type": "code",
   "execution_count": null,
   "id": "3fed683c",
   "metadata": {},
   "outputs": [],
   "source": [
    "# put your refactored code here\n",
    "\n",
    "# inputs for selected variables\n",
    "# chooseCharacter = int(input(\"Choose your character!!: \")\n",
    "\n",
    "# if choseCharacter == 1:\n",
    "#     go.wizard()\n",
    "                      \n",
    "                      \n",
    "    \n",
    "# #character classes\n",
    "# def wizard():\n",
    "#     Attacks = [\"fireball\",\"lightning\"]\n",
    "    \n",
    "#     SelectedAction = int(input(\"Choose Your Attack!!: \"))\n",
    "    \n",
    "\n",
    "# def warrior():\n",
    "#     SelectedAction = input(\"Choose Your Attack!!: \")\n",
    "\n",
    "\n",
    "\n"
   ]
  },
  {
   "cell_type": "code",
   "execution_count": null,
   "id": "a4e8bbc6-519c-41d3-bff6-04396f831752",
   "metadata": {},
   "outputs": [],
   "source": [
    "\n",
    "#dictionary for characters with their spells\n",
    "CharacterSelect = {\n",
    "\n",
    "'wizard': ['fireball','lightning'],\n",
    "'warrior':['bash','slash'],\n",
    "\n",
    "}\n",
    "\n",
    "#character action function\n",
    "def characterA(SelectedCharacter,Attack):\n",
    "    if SelectedCharacter == 'wizard':\n",
    "        if Attack == 'fireball':\n",
    "            return \"casts fireball\"\n",
    "        elif Attack =='lightning':\n",
    "            return \"casts lightning\"\n",
    "    if SelectedCharacter == 'warrior':\n",
    "        if Attack == 'bash':\n",
    "            return \"bashes with shield\"\n",
    "        elif Attack == 'slash':\n",
    "            return \"slashes with sword\"\n",
    "    else:\n",
    "        return \"does nothing\"\n",
    "\n",
    "#enemy encounter\n",
    "def enemy():\n",
    "    \n",
    "    Encountered = [\"dragon\",\"goblin\",\"orc\"]\n",
    "\n",
    "    for i in range(3):\n",
    "        if i == \"dragon\":\n",
    "            return \"fights dragon\"\n",
    "        if i == \"goblin\":\n",
    "            return \"fights goblin\"\n",
    "        if i == \"orc\":\n",
    "            return \"fights orc\"\n",
    "        \n",
    "#explorer list print\n",
    "def explorer():\n",
    "    for i in range(5):\n",
    "        print(\"exploring dungeon\")\n",
    "    for j in range(5):\n",
    "        print(\"finding treasure\")\n",
    "        \n",
    "\n",
    "    \n",
    "        \n",
    "print(characterA(\"wizard\",\"lightning\"))\n",
    "print(characterA(\"warrior\",\"slash\"))\n",
    "enemy()\n",
    "explorer()\n",
    "        \n",
    "\n",
    "\n",
    "\n",
    "\n"
   ]
  },
  {
   "cell_type": "markdown",
   "id": "981ae1b9",
   "metadata": {},
   "source": [
    "# Part 3\n",
    "Refactor your partners lab 1 code so it is a clean function. Look at part 4 and see how you can adapt the code to fit project one. "
   ]
  },
  {
   "cell_type": "code",
   "execution_count": 115,
   "id": "ad78e5cd",
   "metadata": {},
   "outputs": [
    {
     "name": "stdout",
     "output_type": "stream",
     "text": [
      "[4, 4, 6, 6, 6]\n",
      "[0, 6, 4]\n"
     ]
    }
   ],
   "source": [
    "#Original Code Written by Jeremy Esperanza\n",
    "# part 1\n",
    "import random\n",
    "\n",
    "#assign a random number to each die, there are 5\n",
    "die1 = random.randint(1,6)\n",
    "die2 = random.randint(1,6)\n",
    "die3 = random.randint(1,6)\n",
    "die4 = random.randint(1,6)\n",
    "die5 = random.randint(1,6)\n",
    "\n",
    "# part 2\n",
    "#put all the die into a list then print, this is list 1\n",
    "diceList = [die1, die2, die3, die4, die5]\n",
    "print (diceList)\n",
    "#different types of data, this is list 2\n",
    "highest_value = max(diceList)\n",
    "lowest_value = min(diceList)\n",
    "wrong_guesses = 0\n",
    "miscList = [wrong_guesses, highest_value, lowest_value]\n",
    "print (miscList)"
   ]
  },
  {
   "cell_type": "code",
   "execution_count": 9,
   "id": "830ffc80",
   "metadata": {},
   "outputs": [],
   "source": [
    "#function for guessing a dice in the list, function for part 3\n",
    "def diceroll(dice_index):\n",
    "    #local variables\n",
    "    correct_guess = 0\n",
    "    targetNumber = 0\n",
    "    total_wrong = 0\n",
    "    display_guess = dice_index + 1\n",
    "    #begin guessing\n",
    "    print(\"guessing for dice number \")\n",
    "    print(display_guess)\n",
    "    #guess until right\n",
    "    while correct_guess == 0:\n",
    "        target_number = diceList[dice_index]\n",
    "        guess = int(input(\"guess a number 1-6\\n\"))\n",
    "        if guess == target_number:\n",
    "            print(\"yes!\")\n",
    "            correct_guess = 1\n",
    "            if correct_guess == 1:\n",
    "                print(\"\\n\")\n",
    "                return total_wrong\n",
    "        else:\n",
    "            print(\"no!!!\")\n",
    "            total_wrong += 1"
   ]
  },
  {
   "cell_type": "code",
   "execution_count": null,
   "id": "32130a39",
   "metadata": {},
   "outputs": [],
   "source": [
    "#part 3\n",
    "dice_number = 0\n",
    "display_wrong = 0\n",
    "while dice_number < 5:\n",
    "    display_wrong = diceroll(dice_number) + display_wrong\n",
    "    dice_number += 1\n",
    "print(\"congrats! you did it.\\n\")\n",
    "miscList[0] = display_wrong\n",
    "print(\"here are your stats, from left to right: wrong guesses, highest value, lowest value\")\n",
    "print(miscList)\n",
    "print(\"here is your dice list...\\n\")\n",
    "print(diceList)"
   ]
  },
  {
   "cell_type": "code",
   "execution_count": 204,
   "id": "9008ded7",
   "metadata": {},
   "outputs": [
    {
     "data": {
      "text/plain": [
       "([5, 5, 3, 5, 2], [0, 2, 5])"
      ]
     },
     "execution_count": 204,
     "metadata": {},
     "output_type": "execute_result"
    }
   ],
   "source": [
    "#refracted code here\n",
    "\n",
    "\n",
    "#asigning a function for recurable dice roll\n",
    "\n",
    "def DiceRoll ():\n",
    "    '\"Rolling 5 dice\"'   #part 1\n",
    "\n",
    "    import random\n",
    "\n",
    "    diceList = []\n",
    "\n",
    "    for rolled in range(5):\n",
    "        rolled = random.randint(1,6)\n",
    "        diceList.append(rolled)\n",
    "        lowest_value = min(diceList)  #part 2\n",
    "        highest_value = max(diceList)\n",
    "        wrong_answers = 0\n",
    "    \n",
    "    miscList = [wrong_answers,lowest_value,highest_value]\n",
    "\n",
    "    return diceList,miscList\n",
    "\n",
    "#the stats for wrong guessses and hi/lo values are outputed as such (diceList,miscList)\n",
    "\n",
    "DiceRoll()\n"
   ]
  },
  {
   "cell_type": "code",
   "execution_count": 195,
   "id": "320af94b",
   "metadata": {},
   "outputs": [],
   "source": [
    "#refracted dice game\n",
    "\n",
    "def dice_guess(inputed_guess):\n",
    "\n",
    "    correct_guess = 0\n",
    "\n",
    "    if inputed_guess in diceList:\n",
    "        print(\"yes!!!\")\n",
    "        correct_guess =+ 1\n",
    "    \n",
    "\n",
    "    \n",
    "\n"
   ]
  },
  {
   "cell_type": "markdown",
   "id": "e589c6c8-f937-47e0-8db2-a37e03c12336",
   "metadata": {},
   "source": [
    "## Part 4 - take home but start in class                  \n",
    "# Project #1  introduction \n",
    "\n",
    "\n",
    "Your task is to develop a text-based video game focusing on the player profile, inventory system, and combat mechanics. Create a realistic player character with at least 10 inventory items, each with a description and an associated trait. Enjoy the process!\n",
    "\n",
    "Incorporate all the concepts we've covered so far, including files (read and write), JSON, operators, lists, optional tuples, functions, modules, and classes.\n",
    "\n",
    "### Requirements:\n",
    "- **Player Type Selection**: Allow players to choose their character type. Set attributes based on the choice (e.g., wizard: magic = 10, knight: magic = 0).\n",
    "- **Inventory Display**: Implement a function to show the player's inventory.\n",
    "- **Item Details**: Write a function to provide detailed information about an inventory item (e.g., Knife: \"forged in the depths of Polymar\", +5 magic, edged weapon, one-handed).\n",
    "  - Bonus: Calculate bonuses when equipping and unequipping items.\n",
    "- **Inventory Management**: Create functions to add and remove items from the inventory.\n",
    "- **Persistence**: Ensure the game can save and reload the player's character using files.\n",
    "\n",
    "Focus on building the player and inventory system for your text-based adventure game (similar to Zork). The map and gameplay can be developed later.\n",
    "\n",
    "### Game Features:\n",
    "- **Player Profile**: Include player stats.\n",
    "- **Inventory System**: Implement a bag to hold items.\n",
    "- **Items**: Include 10 items, each with a description and trait (e.g., +5 magic).\n",
    "- **Concepts**: Utilize functions, loops, arrays, classes, and constants. You may also use files and structs if desired.\n",
    "- **Player Type Selection**: Allow players to choose their character type and set attributes accordingly (e.g., wizard: magic = 10, knight: magic = 0).\n",
    "- **Inventory Display**: Implement a function to show the player's inventory.\n",
    "- **Code Quality**: Keep your code clean and consider various player needs, as this project will be handed off to a partner for further development.\n",
    "\n"
   ]
  },
  {
   "cell_type": "markdown",
   "id": "1fe3ba5e-722b-4ed8-b36f-c9ebd718bd7d",
   "metadata": {},
   "source": [
    "# Project 1 - Part 1\n",
    "Spend time planning out your code. You may work with your partner to plan out your code. How would you like your game to play? \n",
    "\n",
    "Use a UML planner like: \n",
    "\n",
    "\n",
    "https://miro.com/\n"
   ]
  },
  {
   "cell_type": "code",
   "execution_count": null,
   "id": "3bdce5be-0a31-4cf9-ba17-0f5be8cefc33",
   "metadata": {},
   "outputs": [],
   "source": []
  }
 ],
 "metadata": {
  "kernelspec": {
   "display_name": "base",
   "language": "python",
   "name": "python3"
  },
  "language_info": {
   "codemirror_mode": {
    "name": "ipython",
    "version": 3
   },
   "file_extension": ".py",
   "mimetype": "text/x-python",
   "name": "python",
   "nbconvert_exporter": "python",
   "pygments_lexer": "ipython3",
   "version": "3.12.7"
  }
 },
 "nbformat": 4,
 "nbformat_minor": 5
}
