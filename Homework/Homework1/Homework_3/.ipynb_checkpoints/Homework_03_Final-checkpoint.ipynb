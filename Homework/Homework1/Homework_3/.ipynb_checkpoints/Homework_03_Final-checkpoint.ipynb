{
 "cells": [
  {
   "cell_type": "markdown",
   "metadata": {},
   "source": [
    "# Homework #3: \n",
    "Creating and Using Python Classes with JSON\n",
    "\n",
    "## Instructions:\n",
    "### 1. Create a Python file named `data_classes.py` with the following content:\n",
    "- Define a class `Person` with attributes `name`, `age`, and `email`.\n",
    "- Define a class `Student` that inherits from `Person` and adds an attribute `student_id`.\n",
    "- Include a method to save the data of these instances into a JSON file.\n",
    "- Include a method to display the JSON content on the screen.\n",
    "\n",
    "\n",
    "hints:\n",
    "```python\n",
    "class Person(object):\n",
    "    #do stuff\n",
    "\n",
    "class Student(Person):\n",
    "    #do stuff\n",
    "\n",
    "\n",
    "#use json.dump \n",
    "'last_name': fake.last_name()\n",
    "'first_name': fake.first_name()\n",
    "'email': fake.email()\n",
    "'student_id': fake.age\n",
    "```\n",
    "\n",
    "### 2. Write a Jupyter Notebook that:\n",
    "- Imports the classes from `data_classes.py`.\n",
    "- Creates instances of `Person` and `Student`.\n",
    " - Calls the methods to save data to a JSON file and display the JSON content.\n",
    "\n",
    "```python\n",
    "from data_classes import Student as dc\n",
    "from data_classes import Saver\n",
    "bill = dc(\"bill\",12,\"bill@cool.com\",1234)\n",
    "saver(bill)\n",
    "```\n",
    "\n",
    "###  Step 3: Verify the JSON file content\n",
    "This step should be done by running the display_json method in the Jupyter Notebook I expect you to use your Jupyter notebook to explain any work and thought processes you had while working on your Homework. Consider your Jupyter notebook your \"Lab Report\" and the Homework is your .py file.\n",
    "\n"
   ]
  },
  {
   "cell_type": "markdown",
   "metadata": {},
   "source": [
    "\n",
    "\n",
    "\n",
    "\n",
    "\n",
    "Your json file should look like the following when you are done\n",
    "\n",
    "```JSON\n",
    "[\n",
    "    {\n",
    "        \"last_name\": \"Taylor\", \n",
    "        \"first_name\": \"Jose\", \n",
    "        \"street_address\": \"571 Travis Forest Suite 210\", \n",
    "        \"email\": \"marysanchez@example.org\", \"age\": \"Saturday 30. August 2008\", \"index\": 0\n",
    "    },\n",
    "    {\n",
    "        \"last_name\": \"Stevenson\", \n",
    "        \"first_name\": \"Tyler\", \n",
    "        \"street_address\": \"529 Washington Neck\", \n",
    "        \"email\": \"leekatrina@example.org\", \n",
    "        \"age\": \"Wednesday 25. January 1995\", \n",
    "        \"index\": 1\n",
    "    } \n",
    "]\n",
    "```"
   ]
  },
  {
   "cell_type": "markdown",
   "metadata": {},
   "source": [
    "### Victor Flores\n",
    "### ETE 4490 Spring 2025\n",
    "### 26 Febuary 2025"
   ]
  },
  {
   "cell_type": "code",
   "execution_count": 11,
   "metadata": {},
   "outputs": [],
   "source": [
    "import data_classes"
   ]
  },
  {
   "cell_type": "code",
   "execution_count": 12,
   "metadata": {},
   "outputs": [],
   "source": [
    "from data_classes import Person\n",
    "from data_classes import Student as ppl\n",
    "from data_classes import save_student\n",
    "from data_classes import show_content\n"
   ]
  },
  {
   "cell_type": "code",
   "execution_count": 13,
   "metadata": {},
   "outputs": [],
   "source": [
    "john = ppl(\"John\",15,\"jdoe@msn.com\",\"001\")\n"
   ]
  },
  {
   "cell_type": "code",
   "execution_count": 7,
   "metadata": {},
   "outputs": [],
   "source": [
    "stacy = ppl(\"Stacy\",19,\"scara@gmail.com\",\"002\")"
   ]
  },
  {
   "cell_type": "code",
   "execution_count": 14,
   "metadata": {},
   "outputs": [],
   "source": [
    "save_student(john)"
   ]
  },
  {
   "cell_type": "code",
   "execution_count": 9,
   "metadata": {},
   "outputs": [],
   "source": [
    "save_student(stacy)"
   ]
  },
  {
   "cell_type": "markdown",
   "metadata": {},
   "source": [
    "Here we can test the json file content below"
   ]
  },
  {
   "cell_type": "code",
   "execution_count": 15,
   "metadata": {},
   "outputs": [
    {
     "name": "stdout",
     "output_type": "stream",
     "text": [
      "[\n",
      "  {\n",
      "    \"name\": \"John\",\n",
      "    \"age\": 15,\n",
      "    \"email\": \"jdoe@msn.com\",\n",
      "    \"student_id\": \"001\"\n",
      "  }\n",
      "]\n"
     ]
    }
   ],
   "source": [
    "show_content()"
   ]
  }
 ],
 "metadata": {
  "kernelspec": {
   "display_name": "Python 3 (ipykernel)",
   "language": "python",
   "name": "python3"
  },
  "language_info": {
   "codemirror_mode": {
    "name": "ipython",
    "version": 3
   },
   "file_extension": ".py",
   "mimetype": "text/x-python",
   "name": "python",
   "nbconvert_exporter": "python",
   "pygments_lexer": "ipython3",
   "version": "3.12.7"
  }
 },
 "nbformat": 4,
 "nbformat_minor": 4
}
