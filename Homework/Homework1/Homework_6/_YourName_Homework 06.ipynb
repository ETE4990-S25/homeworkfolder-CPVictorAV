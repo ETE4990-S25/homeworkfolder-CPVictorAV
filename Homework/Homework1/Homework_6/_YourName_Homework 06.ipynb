{
 "cells": [
  {
   "cell_type": "markdown",
   "metadata": {},
   "source": [
    "### Victor Flores\n",
    "### ETE 4990 Spring 2025\n",
    "### 10 March 2025"
   ]
  },
  {
   "cell_type": "markdown",
   "metadata": {},
   "source": [
    "## Objective:\n",
    "The objective of this assignment is to practice using Functional Programing.\n",
    "\n",
    "## Instructions:\n",
    "\n",
    "Using everything we learned to day about Functional Programing, lambda and itters create one of each of the following:\n",
    "-  Basic Lambda Function\n",
    "    - Create a lambda function that takes one arguments and returns even or odd.\n",
    "- Advanced lambda Function\n",
    "    - Create a lambda function that takes a list and returns their sum \n",
    "- Sorting with Lambda\n",
    "- Filtering with Lambda - `filter()` \n",
    "- Mapping with Lambda - `map()`\n",
    "- Reducing with Lambda -  `reduce()` \n",
    "- Enumerate with or without Lambda - `enumerate()`\n",
    "- zip with or without lambda (may combine enumerate like in class) - `zip()`\n",
    "\n",
    "Submit the file as a .py \n",
    "\n",
    "\n"
   ]
  },
  {
   "cell_type": "markdown",
   "metadata": {},
   "source": [
    "#### 1st part\n",
    "Basic Lambda Function\n",
    "    - Create a lambda function that takes one arguments and returns even or odd."
   ]
  },
  {
   "cell_type": "code",
   "execution_count": null,
   "metadata": {},
   "outputs": [
    {
     "name": "stdout",
     "output_type": "stream",
     "text": [
      "even\n"
     ]
    }
   ],
   "source": [
    "def BasicLambdaFunction():\n",
    "    testing = 4\n",
    "\n",
    "    even_or_odd = lambda x: \"even\" if x % 2 == 0 else \"odd\"\n",
    "\n",
    "    print(even_or_odd(testing))\n",
    "\n",
    "BasicLambdaFunction()"
   ]
  },
  {
   "cell_type": "markdown",
   "metadata": {},
   "source": [
    " #### 2nd Part\n",
    " Advanced lambda Function- Create a lambda function that takes a list and returns their sum "
   ]
  },
  {
   "cell_type": "code",
   "execution_count": 61,
   "metadata": {},
   "outputs": [
    {
     "name": "stdout",
     "output_type": "stream",
     "text": [
      "13\n"
     ]
    }
   ],
   "source": [
    "def AdvLambdaFunction():\n",
    "    sum_list = [1,3,4,5]\n",
    "\n",
    "    summer = lambda x: sum(x)\n",
    "\n",
    "    print(summer(sum_list))\n",
    "\n",
    "AdvLambdaFunction()"
   ]
  },
  {
   "cell_type": "markdown",
   "metadata": {},
   "source": [
    "#### 3rd Part\n",
    "Sorting with Lambda"
   ]
  },
  {
   "cell_type": "code",
   "execution_count": 31,
   "metadata": {},
   "outputs": [
    {
     "name": "stdout",
     "output_type": "stream",
     "text": [
      "[1, 3, 4, 5, 8, 9]\n"
     ]
    }
   ],
   "source": [
    "def SortLambda():\n",
    "    unsorted = [9,1,4,5,8,3]\n",
    "\n",
    "    sorting = lambda x: sorted(x)\n",
    "\n",
    "    print(sorting(unsorted))\n",
    "\n",
    "SortLambda()"
   ]
  },
  {
   "cell_type": "markdown",
   "metadata": {},
   "source": [
    "#### 4th Part\n",
    "Filtering with Lambda"
   ]
  },
  {
   "cell_type": "code",
   "execution_count": 57,
   "metadata": {},
   "outputs": [
    {
     "data": {
      "text/plain": [
       "[2, 3, 4]"
      ]
     },
     "execution_count": 57,
     "metadata": {},
     "output_type": "execute_result"
    }
   ],
   "source": [
    "unfiltered = [15,2,45,32,21,3,4]\n",
    "\n",
    "def filteringLambda(alist):\n",
    "\n",
    "    filtering = list(filter(lambda x:(x<10),alist))\n",
    "\n",
    "    return filtering\n",
    "\n",
    "\n",
    "filteringLambda(unfiltered)"
   ]
  },
  {
   "cell_type": "markdown",
   "metadata": {},
   "source": [
    "#### 5th part\n",
    "Mapping with Lambda"
   ]
  },
  {
   "cell_type": "code",
   "execution_count": 62,
   "metadata": {},
   "outputs": [
    {
     "data": {
      "text/plain": [
       "[4, 6, 8]"
      ]
     },
     "execution_count": 62,
     "metadata": {},
     "output_type": "execute_result"
    }
   ],
   "source": [
    "a = [1,2,3]\n",
    "b = [3,4,5]\n",
    "\n",
    "def LambdaMap(oneList,twoList):\n",
    "    \n",
    "\n",
    "    mapped = list(map(lambda x,y: x+y,oneList,twoList))\n",
    "\n",
    "    return mapped\n",
    "\n",
    "LambdaMap(a,b)"
   ]
  },
  {
   "cell_type": "markdown",
   "metadata": {},
   "source": [
    "#### 6th Part\n",
    "Reducing with Lambda"
   ]
  },
  {
   "cell_type": "code",
   "execution_count": 63,
   "metadata": {},
   "outputs": [
    {
     "data": {
      "text/plain": [
       "32"
      ]
     },
     "execution_count": 63,
     "metadata": {},
     "output_type": "execute_result"
    }
   ],
   "source": [
    "from functools import reduce\n",
    "to_the_fifth = [2,2,2,2,2]\n",
    "\n",
    "def ReduceLambda(eList):\n",
    "\n",
    "    exponent = reduce(lambda x,y: x*y,eList)\n",
    "\n",
    "    return exponent\n",
    "\n",
    "ReduceLambda(to_the_fifth)"
   ]
  },
  {
   "cell_type": "markdown",
   "metadata": {},
   "source": [
    "#### 7th Part\n",
    "Enumerate with or without Lambda"
   ]
  },
  {
   "cell_type": "code",
   "execution_count": null,
   "metadata": {},
   "outputs": [
    {
     "data": {
      "text/plain": [
       "{1: 'a', 2: 'b', 3: 'c', 4: 'd'}"
      ]
     },
     "execution_count": 67,
     "metadata": {},
     "output_type": "execute_result"
    }
   ],
   "source": [
    "sequence = ['a','b','c','d']\n",
    "\n",
    "def NoLambdaEnumerate(alphaList):\n",
    "\n",
    "    numbered_alphabet = dict(enumerate(alphaList,start=1))\n",
    "\n",
    "    return numbered_alphabet\n",
    "\n",
    "NoLambdaEnumerate(sequence)\n"
   ]
  },
  {
   "cell_type": "markdown",
   "metadata": {},
   "source": [
    "#### 8th Part\n",
    "zip with or without lambda"
   ]
  },
  {
   "cell_type": "code",
   "execution_count": 68,
   "metadata": {},
   "outputs": [
    {
     "data": {
      "text/plain": [
       "[('John', 'Doe'), ('Darren', 'Watkins'), ('Sarah', 'Cortez')]"
      ]
     },
     "execution_count": 68,
     "metadata": {},
     "output_type": "execute_result"
    }
   ],
   "source": [
    "First_Name  = ['John','Darren','Sarah']\n",
    "Last_Name = ['Doe','Watkins','Cortez']\n",
    "\n",
    "def full_name(first,last):\n",
    "\n",
    "    combine_name = list(zip(first,last))\n",
    "\n",
    "    return combine_name\n",
    "\n",
    "full_name(First_Name,Last_Name)"
   ]
  }
 ],
 "metadata": {
  "kernelspec": {
   "display_name": "base",
   "language": "python",
   "name": "python3"
  },
  "language_info": {
   "codemirror_mode": {
    "name": "ipython",
    "version": 3
   },
   "file_extension": ".py",
   "mimetype": "text/x-python",
   "name": "python",
   "nbconvert_exporter": "python",
   "pygments_lexer": "ipython3",
   "version": "3.12.7"
  }
 },
 "nbformat": 4,
 "nbformat_minor": 2
}
